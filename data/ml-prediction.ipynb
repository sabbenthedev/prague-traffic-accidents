{
 "cells": [
  {
   "cell_type": "code",
   "execution_count": null,
   "metadata": {},
   "outputs": [],
   "source": [
    "import torch\n",
    "import torch.nn as nn\n",
    "import torch.optim as optim\n",
    "\n",
    "# malý sample neurální sítě struktury\n",
    "class AccidentPredict(nn.Module):\n",
    "    def __init__(self):\n",
    "        super(AccidentPredict, self).__init__()\n",
    "        self.layer1 = nn.Linear(in_features = 5, out_features = 16)\n",
    "        self.layer2 = nn.Linear(16, 1)\n",
    "\n",
    "    def forward(self, x):\n",
    "        x = torch.relu(self.layer1(x))\n",
    "        return torch.sigmoid(self.layer2(x))\n",
    "    \n",
    "\n",
    "model = AccidentPredict\n",
    "print(model)"
   ]
  }
 ],
 "metadata": {
  "language_info": {
   "name": "python"
  }
 },
 "nbformat": 4,
 "nbformat_minor": 2
}
