{
 "cells": [
  {
   "cell_type": "code",
   "execution_count": null,
   "metadata": {},
   "outputs": [],
   "source": [
    "import geopandas as gpd\n",
    "import folium.plugins\n",
    "from folium.plugins import HeatMap\n",
    "\n",
    "# Načtení data, utf-8 pro český jazyk\n",
    "filename = \"nehody_202401-202412.geojson\"\n",
    "file = open(filename, encoding=\"utf-8\")\n",
    "df = gpd.read_file(file)\n",
    "\n",
    "# Mapa Prahy\n",
    "m = folium.Map(location=[50.0755, 14.4378], zoom_start=12)\n",
    "\n",
    "# Extrahuje zeměpisnou šírku a délku\n",
    "accident_locations = df[['geometry']].dropna()\n",
    "lat_lon = [[point.y, point.x] for point in accident_locations.geometry]\n",
    "\n",
    "# Plugin heatmap\n",
    "HeatMap(lat_lon).add_to(m)\n",
    "\n",
    "# Output mapa\n",
    "m"
   ]
  }
 ],
 "metadata": {
  "language_info": {
   "name": "python"
  }
 },
 "nbformat": 4,
 "nbformat_minor": 2
}
